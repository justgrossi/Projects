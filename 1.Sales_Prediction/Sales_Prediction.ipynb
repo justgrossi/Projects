{
 "cells": [
  {
   "cell_type": "markdown",
   "id": "04dcfd74-b606-430d-86e2-8a1339db247d",
   "metadata": {},
   "source": [
    "# Sales Prediction Based on e-Commerce Patterns Recognition\n",
    "![eCommerce](Images/eCommerce.jpg)\n",
    "## Objective:\n",
    "<p align=\"justify\">\n",
    "Predict browsing sessions leading to eCommerce purchases. Extreme Gradient Boosting is the algorithm of choice due to the imbalanced nature of the data set (which is handled through SMOTE). Results include evaluation metrics, confusion matrix, R.O.C. curve and the extraction of the features influencing online purchases the most. The analysis offers practical implications of predictive analytics in business, highlighting potential applications in marketing strategies, dynamic pricing, platform optimisation, inventory management, and strategic planning.\n",
    "</p>\n",
    "\n",
    "\n",
    "[Online shoppers.csv](https://github.com/justgrossi/Portfolio/blob/main/1.Sales_Prediction/online_shoppers.csv)\n",
    "\n",
    "<p align=\"justify\">\n",
    "The data set consists of 10 numerical and 8 categorical attributes for a total of 12,330 browsing sessions. Each session belongs to a different user. Of the 12,330 sessions in the dataset 84.5% are negative class samples that did not end with a purchase. Following variables list:\n",
    "\n",
    "1. \"*Administrative*\", \"*Administrative Duration*\", \"*Informational*\", \"*Informational Duration*\", \"*Product Related*\" and \"*Product Related Duration*\" represent the number of different types of pages visited by the visitor in that session and the total time spent on each of those page categories.\n",
    "2. \"*Bounce Rate*\", \"*Exit Rate*\" and \"*Page Value*\" represent the metrics measured by Google Analytics for each page. The \"*Bounce Rate*\" refers to the percentage of visitors who enter the site from that page and then leave (\"*bounce*\") without triggering any other requests to the analytics server during that session. \"*Exit Rate*\" is calculated as for all pageviews to the page, the percentage that were the last in the session. \"*Page Value*\" represents the average value of a web page that a user visited before completing an e-commerce transaction.\n",
    "3. \"*Special Day*\" indicates the closeness (in days) of the browsing session to a specific special day (e.g. Mother’s Day, Valentine's Day) in which sessions are more likely to lead to a transaction.\n",
    "4. The data set also includes information regarding operating system, browser, region, traffic type, visitor type (returning vs new visitor), a Boolean value indicating whether the date of the visit is weekend, and month of the year.\n",
    "5. \"*Revenue*\" is the boolean target label identifying browsing sessions ending in a purchase.\n",
    "</p>"
   ]
  },
  {
   "cell_type": "code",
   "execution_count": 1,
   "id": "92e4f317-5316-446e-a157-3c680457e419",
   "metadata": {},
   "outputs": [],
   "source": [
    "import pandas as pd\n",
    "import numpy as np\n",
    "import matplotlib.pyplot as plt\n",
    "%matplotlib inline\n",
    "from sklearn.model_selection import train_test_split, RandomizedSearchCV\n",
    "from sklearn.preprocessing import StandardScaler\n",
    "from sklearn.impute import SimpleImputer\n",
    "from sklearn.metrics import accuracy_score, f1_score, classification_report, roc_curve, auc, roc_auc_score, RocCurveDisplay\n",
    "from imblearn.over_sampling import SMOTE\n",
    "from imblearn.pipeline import Pipeline\n",
    "from sklearn.compose import ColumnTransformer\n",
    "from sklearn.feature_selection import SelectFromModel\n",
    "from sklearn.preprocessing import OneHotEncoder\n",
    "from collections import Counter\n",
    "from xgboost import XGBClassifier\n",
    "from scipy.stats import randint, uniform"
   ]
  },
  {
   "cell_type": "code",
   "execution_count": 2,
   "id": "a892ca6b-eaf5-4239-b0e7-8f311b97d3bf",
   "metadata": {},
   "outputs": [],
   "source": [
    "# Set helper functions\n",
    "# Data exploration\n",
    "def load_and_inspect_data(file_path):\n",
    "    \"\"\"Load the dataset and perform initial inspection\"\"\"\n",
    "    print(\"=\" * 60)\n",
    "    print(\"LOADING AND INSPECTING DATA\")\n",
    "    print(\"=\" * 60)\n",
    "    \n",
    "    # Load the data\n",
    "    df = pd.read_csv(file_path)\n",
    "    \n",
    "    print(f\"Dataset shape: {df.shape}\")\n",
    "    print(f\"\\nColumn names and types:\")\n",
    "    print(df.dtypes)\n",
    "    \n",
    "    print(f\"\\nMissing values per column:\")\n",
    "    missing_values = df.isnull().sum()\n",
    "    print(missing_values[missing_values > 0])\n",
    "    display(df.head())\n",
    "\n",
    "    return df\n",
    "\n",
    "\n",
    "# Check integrity numerical features\n",
    "def num_features(cols):\n",
    "    for col in num_cols:\n",
    "        print(f'Column: {col}')\n",
    "        negative_values=len(df.loc[df[col]<0])\n",
    "        print(f'Negative values: {negative_values}')\n",
    "\n",
    "\n",
    "# Get Feature importances -- best 10\n",
    "def feature_importance_list(best_model):\n",
    "    # Get final estimator -- the actual model\n",
    "    final_estimator = best_model.named_steps[\"classifier\"]\n",
    "\n",
    "    if hasattr(final_estimator, \"feature_importances_\"):\n",
    "        importances = final_estimator.feature_importances_\n",
    "\n",
    "        # Get feature names after preprocessing\n",
    "        preprocessor = best_model.named_steps[\"preprocessor\"]\n",
    "        try:\n",
    "            feature_names = preprocessor.get_feature_names_out()\n",
    "        except:\n",
    "            feature_names = X_train.columns  # fallback\n",
    "\n",
    "        # Build DataFrame\n",
    "        importance_df = (\n",
    "            pd.DataFrame({\"Feature\": feature_names, \"Importance\": importances})\n",
    "            .sort_values(\"Importance\", ascending=False)\n",
    "        ).head(10)\n",
    "\n",
    "        print(\"\\nFeature Importances:\")\n",
    "        print(importance_df)\n",
    "\n",
    "    elif hasattr(final_estimator, \"coef_\"):\n",
    "        importances = (\n",
    "            final_estimator.coef_[0]\n",
    "            if len(final_estimator.coef_.shape) > 1\n",
    "            else final_estimator.coef_\n",
    "        )\n",
    "\n",
    "        preprocessor = best_model.named_steps[\"preprocessor\"]\n",
    "        try:\n",
    "            feature_names = preprocessor.get_feature_names_out()\n",
    "        except:\n",
    "            feature_names = X_train.columns  # fallback\n",
    "    \n",
    "        importance_df = (\n",
    "            pd.DataFrame({\"Feature\": feature_names, \"Coefficient\": importances})\n",
    "            .sort_values(\"Coefficient\", ascending=False)\n",
    "        ).head(10)\n",
    "    \n",
    "        print(\"\\nModel Coefficients:\")\n",
    "        print(importance_df)\n",
    "\n",
    "    else:\n",
    "        print(\"This model does not provide feature importances or coefficients.\")\n",
    "\n",
    "\n",
    "# Plot Feature importances\n",
    "def plot_feature_importance(best_model):\n",
    "    plt.style.use('ggplot')\n",
    "\n",
    "    final_estimator = best_model.named_steps[\"classifier\"]\n",
    "    importances = final_estimator.feature_importances_\n",
    "    plt.hist(importances, bins=20)\n",
    "    \n",
    "    plt.title(\"Distribution of Feature Importances\")\n",
    "    plt.xlabel(\"Feature Importance\")\n",
    "    plt.ylabel(\"Number of Features\")\n",
    "    plt.tight_layout()\n",
    "    plt.show()\n",
    "\n",
    "\n",
    "# Plot ROC curve\n",
    "def roc_curve_plot(best_model):\n",
    "    from sklearn.metrics import roc_curve as sk_roc_curve, auc\n",
    "    from sklearn.preprocessing import label_binarize\n",
    "    # ROC Curve\n",
    "    if hasattr(best_model, \"predict_proba\"):\n",
    "        y_proba = best_model.predict_proba(X_test)\n",
    "\n",
    "        if len(np.unique(y_test)) == 2:\n",
    "            # Binary classification\n",
    "            fpr, tpr, _ = sk_roc_curve(y_test, y_proba[:, 1])\n",
    "            roc_auc = auc(fpr, tpr)\n",
    "\n",
    "            plt.figure(figsize=(6, 6))\n",
    "            plt.plot(fpr, tpr, color=\"darkorange\", lw=2, label=f\"ROC curve (AUC = {roc_auc:.2f})\")\n",
    "            plt.plot([0, 1], [0, 1], color=\"navy\", lw=2, linestyle=\"--\")\n",
    "            plt.xlabel(\"False Positive Rate\")\n",
    "            plt.ylabel(\"True Positive Rate\")\n",
    "            plt.title(\"Receiver Operating Characteristic (ROC)\")\n",
    "            plt.legend(loc=\"lower right\")\n",
    "            plt.show()\n",
    "\n",
    "        else:\n",
    "            # Multi-class classification (one-vs-rest)\n",
    "            from sklearn.preprocessing import label_binarize\n",
    "            from sklearn.metrics import sk_roc_curve, auc\n",
    "    \n",
    "            classes = np.unique(y_test)\n",
    "            y_test_bin = label_binarize(y_test, classes=classes)\n",
    "    \n",
    "            plt.figure(figsize=(8, 6))\n",
    "            for i in range(len(classes)):\n",
    "                fpr, tpr, _ = sk_roc_curve(y_test_bin[:, i], y_proba[:, i])\n",
    "                roc_auc = auc(fpr, tpr)\n",
    "                plt.plot(fpr, tpr, lw=2, label=f\"Class {classes[i]} (AUC = {roc_auc:.2f})\")\n",
    "    \n",
    "            plt.plot([0, 1], [0, 1], color=\"navy\", lw=2, linestyle=\"--\")\n",
    "            plt.xlabel(\"False Positive Rate\")\n",
    "            plt.ylabel(\"True Positive Rate\")\n",
    "            plt.title(\"Multi-class ROC Curve\")\n",
    "            plt.legend(loc=\"lower right\")\n",
    "            plt.show()\n",
    "\n",
    "    else:\n",
    "        print(\"This model does not support predict_proba, ROC curve not available.\")+\n",
    "\n",
    "\n",
    "# Save best model for later use\n",
    "def save_best_model(best_model):\n",
    "    import joblib\n",
    "    joblib.dump(best_model, \"best_model.pkl\")\n",
    "    print(\"✅ Model saved as best_model.pkl\")\n",
    "    \n",
    "    # Load the model\n",
    "    loaded_model = joblib.load(\"best_model.pkl\")\n",
    "    print(\"✅ Model reloaded successfully\")\n",
    "    \n",
    "    # Confirm reloaded model works\n",
    "    y_pred_loaded = loaded_model.predict(X_test)\n",
    "    print(\"Reloaded model Accuracy:\", accuracy_score(y_test, y_pred_loaded))"
   ]
  },
  {
   "cell_type": "code",
   "execution_count": 3,
   "id": "0f318ff1-dec4-47b0-869c-18838d845bd6",
   "metadata": {},
   "outputs": [
    {
     "name": "stdout",
     "output_type": "stream",
     "text": [
      "============================================================\n",
      "LOADING AND INSPECTING DATA\n",
      "============================================================\n",
      "Dataset shape: (12330, 18)\n",
      "\n",
      "Column names and types:\n",
      "Administrative               int64\n",
      "Administrative_Duration    float64\n",
      "Informational                int64\n",
      "Informational_Duration     float64\n",
      "ProductRelated               int64\n",
      "ProductRelated_Duration    float64\n",
      "BounceRates                float64\n",
      "ExitRates                  float64\n",
      "PageValues                 float64\n",
      "SpecialDay                 float64\n",
      "Month                       object\n",
      "OperatingSystems             int64\n",
      "Browser                      int64\n",
      "Region                       int64\n",
      "TrafficType                  int64\n",
      "VisitorType                 object\n",
      "Weekend                       bool\n",
      "Revenue                       bool\n",
      "dtype: object\n",
      "\n",
      "Missing values per column:\n",
      "Series([], dtype: int64)\n"
     ]
    },
    {
     "data": {
      "text/html": [
       "<div>\n",
       "<style scoped>\n",
       "    .dataframe tbody tr th:only-of-type {\n",
       "        vertical-align: middle;\n",
       "    }\n",
       "\n",
       "    .dataframe tbody tr th {\n",
       "        vertical-align: top;\n",
       "    }\n",
       "\n",
       "    .dataframe thead th {\n",
       "        text-align: right;\n",
       "    }\n",
       "</style>\n",
       "<table border=\"1\" class=\"dataframe\">\n",
       "  <thead>\n",
       "    <tr style=\"text-align: right;\">\n",
       "      <th></th>\n",
       "      <th>Administrative</th>\n",
       "      <th>Administrative_Duration</th>\n",
       "      <th>Informational</th>\n",
       "      <th>Informational_Duration</th>\n",
       "      <th>ProductRelated</th>\n",
       "      <th>ProductRelated_Duration</th>\n",
       "      <th>BounceRates</th>\n",
       "      <th>ExitRates</th>\n",
       "      <th>PageValues</th>\n",
       "      <th>SpecialDay</th>\n",
       "      <th>Month</th>\n",
       "      <th>OperatingSystems</th>\n",
       "      <th>Browser</th>\n",
       "      <th>Region</th>\n",
       "      <th>TrafficType</th>\n",
       "      <th>VisitorType</th>\n",
       "      <th>Weekend</th>\n",
       "      <th>Revenue</th>\n",
       "    </tr>\n",
       "  </thead>\n",
       "  <tbody>\n",
       "    <tr>\n",
       "      <th>0</th>\n",
       "      <td>0</td>\n",
       "      <td>0.0</td>\n",
       "      <td>0</td>\n",
       "      <td>0.0</td>\n",
       "      <td>1</td>\n",
       "      <td>0.000000</td>\n",
       "      <td>0.20</td>\n",
       "      <td>0.20</td>\n",
       "      <td>0.0</td>\n",
       "      <td>0.0</td>\n",
       "      <td>Feb</td>\n",
       "      <td>1</td>\n",
       "      <td>1</td>\n",
       "      <td>1</td>\n",
       "      <td>1</td>\n",
       "      <td>Returning_Visitor</td>\n",
       "      <td>False</td>\n",
       "      <td>False</td>\n",
       "    </tr>\n",
       "    <tr>\n",
       "      <th>1</th>\n",
       "      <td>0</td>\n",
       "      <td>0.0</td>\n",
       "      <td>0</td>\n",
       "      <td>0.0</td>\n",
       "      <td>2</td>\n",
       "      <td>64.000000</td>\n",
       "      <td>0.00</td>\n",
       "      <td>0.10</td>\n",
       "      <td>0.0</td>\n",
       "      <td>0.0</td>\n",
       "      <td>Feb</td>\n",
       "      <td>2</td>\n",
       "      <td>2</td>\n",
       "      <td>1</td>\n",
       "      <td>2</td>\n",
       "      <td>Returning_Visitor</td>\n",
       "      <td>False</td>\n",
       "      <td>False</td>\n",
       "    </tr>\n",
       "    <tr>\n",
       "      <th>2</th>\n",
       "      <td>0</td>\n",
       "      <td>0.0</td>\n",
       "      <td>0</td>\n",
       "      <td>0.0</td>\n",
       "      <td>1</td>\n",
       "      <td>0.000000</td>\n",
       "      <td>0.20</td>\n",
       "      <td>0.20</td>\n",
       "      <td>0.0</td>\n",
       "      <td>0.0</td>\n",
       "      <td>Feb</td>\n",
       "      <td>4</td>\n",
       "      <td>1</td>\n",
       "      <td>9</td>\n",
       "      <td>3</td>\n",
       "      <td>Returning_Visitor</td>\n",
       "      <td>False</td>\n",
       "      <td>False</td>\n",
       "    </tr>\n",
       "    <tr>\n",
       "      <th>3</th>\n",
       "      <td>0</td>\n",
       "      <td>0.0</td>\n",
       "      <td>0</td>\n",
       "      <td>0.0</td>\n",
       "      <td>2</td>\n",
       "      <td>2.666667</td>\n",
       "      <td>0.05</td>\n",
       "      <td>0.14</td>\n",
       "      <td>0.0</td>\n",
       "      <td>0.0</td>\n",
       "      <td>Feb</td>\n",
       "      <td>3</td>\n",
       "      <td>2</td>\n",
       "      <td>2</td>\n",
       "      <td>4</td>\n",
       "      <td>Returning_Visitor</td>\n",
       "      <td>False</td>\n",
       "      <td>False</td>\n",
       "    </tr>\n",
       "    <tr>\n",
       "      <th>4</th>\n",
       "      <td>0</td>\n",
       "      <td>0.0</td>\n",
       "      <td>0</td>\n",
       "      <td>0.0</td>\n",
       "      <td>10</td>\n",
       "      <td>627.500000</td>\n",
       "      <td>0.02</td>\n",
       "      <td>0.05</td>\n",
       "      <td>0.0</td>\n",
       "      <td>0.0</td>\n",
       "      <td>Feb</td>\n",
       "      <td>3</td>\n",
       "      <td>3</td>\n",
       "      <td>1</td>\n",
       "      <td>4</td>\n",
       "      <td>Returning_Visitor</td>\n",
       "      <td>True</td>\n",
       "      <td>False</td>\n",
       "    </tr>\n",
       "  </tbody>\n",
       "</table>\n",
       "</div>"
      ],
      "text/plain": [
       "   Administrative  Administrative_Duration  Informational  \\\n",
       "0               0                      0.0              0   \n",
       "1               0                      0.0              0   \n",
       "2               0                      0.0              0   \n",
       "3               0                      0.0              0   \n",
       "4               0                      0.0              0   \n",
       "\n",
       "   Informational_Duration  ProductRelated  ProductRelated_Duration  \\\n",
       "0                     0.0               1                 0.000000   \n",
       "1                     0.0               2                64.000000   \n",
       "2                     0.0               1                 0.000000   \n",
       "3                     0.0               2                 2.666667   \n",
       "4                     0.0              10               627.500000   \n",
       "\n",
       "   BounceRates  ExitRates  PageValues  SpecialDay Month  OperatingSystems  \\\n",
       "0         0.20       0.20         0.0         0.0   Feb                 1   \n",
       "1         0.00       0.10         0.0         0.0   Feb                 2   \n",
       "2         0.20       0.20         0.0         0.0   Feb                 4   \n",
       "3         0.05       0.14         0.0         0.0   Feb                 3   \n",
       "4         0.02       0.05         0.0         0.0   Feb                 3   \n",
       "\n",
       "   Browser  Region  TrafficType        VisitorType  Weekend  Revenue  \n",
       "0        1       1            1  Returning_Visitor    False    False  \n",
       "1        2       1            2  Returning_Visitor    False    False  \n",
       "2        1       9            3  Returning_Visitor    False    False  \n",
       "3        2       2            4  Returning_Visitor    False    False  \n",
       "4        3       1            4  Returning_Visitor     True    False  "
      ]
     },
     "metadata": {},
     "output_type": "display_data"
    }
   ],
   "source": [
    "file_path='online_shoppers.csv'\n",
    "df=load_and_inspect_data(file_path)"
   ]
  },
  {
   "cell_type": "code",
   "execution_count": 4,
   "id": "af263377-93ee-431a-800c-53678b0e7ca4",
   "metadata": {},
   "outputs": [],
   "source": [
    "# Standardize columns naming\n",
    "df.columns=df.columns.str.lower()\n",
    "df.columns=df.columns.str.strip()\n",
    "df.columns=df.columns.str.replace('_', '')"
   ]
  },
  {
   "cell_type": "code",
   "execution_count": 5,
   "id": "e3531fd5-595a-4747-b12f-86f89d54e0bb",
   "metadata": {},
   "outputs": [],
   "source": [
    "# Set columns names\n",
    "mapper={\n",
    "    'administrative':'admin',\n",
    "    'administrativeduration':'adminDur',\n",
    "    'informational': 'info',\n",
    "    'informationalduration':'infoDur',\n",
    "    'productrelated':'prodRel',\n",
    "    'productrelatedduration':'prodRelDur',\n",
    "    'operatingsystems':'operatingSys',\n",
    "    'traffictype':'trafficType',\n",
    "    'visitortype':'visitType'\n",
    "}\n",
    "df.rename(columns=mapper, inplace=True)"
   ]
  },
  {
   "cell_type": "code",
   "execution_count": 6,
   "id": "343404b9-42f5-4b5c-8f22-60775425a9bd",
   "metadata": {},
   "outputs": [
    {
     "name": "stdout",
     "output_type": "stream",
     "text": [
      "Column: adminDur\n",
      "Negative values: 0\n",
      "Column: infoDur\n",
      "Negative values: 0\n",
      "Column: prodRelDur\n",
      "Negative values: 0\n",
      "Column: bouncerates\n",
      "Negative values: 0\n",
      "Column: exitrates\n",
      "Negative values: 0\n",
      "Column: pagevalues\n",
      "Negative values: 0\n"
     ]
    }
   ],
   "source": [
    "# Check integrity numerical features\n",
    "num_cols=['adminDur', 'infoDur', 'prodRelDur', 'bouncerates', 'exitrates', 'pagevalues']\n",
    "num_features(num_cols)"
   ]
  },
  {
   "cell_type": "code",
   "execution_count": 7,
   "id": "62f6da4e-8281-4df1-9d94-715d9ccba0b5",
   "metadata": {},
   "outputs": [
    {
     "data": {
      "text/plain": [
       "visitType\n",
       "Returning_Visitor    10543\n",
       "New_Visitor           1660\n",
       "New                     65\n",
       "new                     38\n",
       "Returning               14\n",
       "returning                5\n",
       "ret                      5\n",
       "Name: count, dtype: int64"
      ]
     },
     "execution_count": 7,
     "metadata": {},
     "output_type": "execute_result"
    }
   ],
   "source": [
    "# Check values\n",
    "df['visitType'].value_counts()"
   ]
  },
  {
   "cell_type": "code",
   "execution_count": 8,
   "id": "9d5ac1b6-7502-4477-8317-161e9dd808ab",
   "metadata": {},
   "outputs": [],
   "source": [
    "type_mapping={\n",
    "    'Returning_Visitor': 'Returning',\n",
    "    'Returning': 'Returning',\n",
    "    'returning': 'Returning',\n",
    "    'ret': 'Returning',\n",
    "    'New_Visitor' : 'New',\n",
    "    'new' : 'New',\n",
    "    'New' : 'New'\n",
    "}"
   ]
  },
  {
   "cell_type": "code",
   "execution_count": 9,
   "id": "8b6e28d7-2238-41c4-ac12-14ac55676763",
   "metadata": {},
   "outputs": [],
   "source": [
    "df['visitType'] = df['visitType'].map(type_mapping)"
   ]
  },
  {
   "cell_type": "code",
   "execution_count": 10,
   "id": "068fb4f4-8d70-4cab-8847-383dd2fb8923",
   "metadata": {},
   "outputs": [
    {
     "data": {
      "text/plain": [
       "month\n",
       "May     3364\n",
       "Nov     2998\n",
       "Mar     1907\n",
       "Dec     1727\n",
       "Oct      549\n",
       "Sep      448\n",
       "Aug      433\n",
       "Jul      432\n",
       "June     288\n",
       "Feb      184\n",
       "Name: count, dtype: int64"
      ]
     },
     "execution_count": 10,
     "metadata": {},
     "output_type": "execute_result"
    }
   ],
   "source": [
    "df['month'].value_counts()"
   ]
  },
  {
   "cell_type": "code",
   "execution_count": 11,
   "id": "3d3a9034-8e47-4fc8-8f39-c04746de1fe0",
   "metadata": {},
   "outputs": [
    {
     "data": {
      "text/plain": [
       "admin           0\n",
       "adminDur        0\n",
       "info            0\n",
       "infoDur         0\n",
       "prodRel         0\n",
       "prodRelDur      0\n",
       "bouncerates     0\n",
       "exitrates       0\n",
       "pagevalues      0\n",
       "specialday      0\n",
       "month           0\n",
       "operatingSys    0\n",
       "browser         0\n",
       "region          0\n",
       "trafficType     0\n",
       "visitType       0\n",
       "weekend         0\n",
       "revenue         0\n",
       "dtype: int64"
      ]
     },
     "execution_count": 11,
     "metadata": {},
     "output_type": "execute_result"
    }
   ],
   "source": [
    "df.isna().sum()"
   ]
  },
  {
   "cell_type": "code",
   "execution_count": 12,
   "id": "22483b23-b3cb-440a-89d7-98c2d4d28071",
   "metadata": {},
   "outputs": [
    {
     "data": {
      "image/png": "[encoded data removed]",
      "text/plain": [
       "<Figure size 640x480 with 1 Axes>"
      ]
     },
     "metadata": {},
     "output_type": "display_data"
    }
   ],
   "source": [
    "# Plot Target Label distribution\n",
    "plt.style.use('ggplot')\n",
    "\n",
    "x=df['revenue'].value_counts().index\n",
    "y=df['revenue'].value_counts().values\n",
    "\n",
    "plt.bar(x, y)\n",
    "bars = plt.bar(x, y)\n",
    "plt.bar_label(bars, fmt='{:,}')\n",
    "plt.title('Target variable distribution')\n",
    "plt.xticks([0, 1])\n",
    "plt.xlabel('Purchase')\n",
    "plt.ylabel('# Sessions')\n",
    "\n",
    "plt.tight_layout()\n",
    "plt.show()"
   ]
  },
  {
   "cell_type": "code",
   "execution_count": 13,
   "id": "a964d39c-c554-48ad-8df0-9f5b70c249b3",
   "metadata": {},
   "outputs": [],
   "source": [
    "# Split into train test\n",
    "X=df.drop(columns=['revenue'])\n",
    "y=df['revenue']\n",
    "\n",
    "X_train, X_test, y_train, y_test = train_test_split(\n",
    "    X, y, test_size=0.2, random_state=42, stratify=y\n",
    ")"
   ]
  },
  {
   "cell_type": "code",
   "execution_count": 14,
   "id": "8cf7069a-dd7a-4088-974f-d78272789cac",
   "metadata": {},
   "outputs": [],
   "source": [
    "# Define preprocessing for numeric and categorical columns\n",
    "numeric_features = X.drop(columns=[\"month\", \"visitType\", \"weekend\"]).columns\n",
    "categorical_features = [\"month\", \"visitType\", \"weekend\"]\n",
    "\n",
    "numeric_transformer = Pipeline([\n",
    "    (\"imputer\", SimpleImputer(strategy=\"median\")),\n",
    "    (\"scaler\", StandardScaler())\n",
    "])\n",
    "\n",
    "categorical_transformer = Pipeline([\n",
    "    (\"imputer\", SimpleImputer(strategy=\"most_frequent\")),\n",
    "    (\"encoder\", OneHotEncoder(handle_unknown=\"ignore\"))\n",
    "])\n",
    "# Combine them with ColumnTransformer\n",
    "preprocessor = ColumnTransformer([\n",
    "    (\"num\", numeric_transformer, numeric_features),\n",
    "    (\"cat\", categorical_transformer, categorical_features)\n",
    "])\n",
    "\n",
    "# Create final pipeline + SMOTE\n",
    "clf_pipeline = Pipeline([\n",
    "    (\"preprocessor\", preprocessor),\n",
    "    (\"smote\", SMOTE(random_state=42)),\n",
    "    (\"classifier\", XGBClassifier())\n",
    "])"
   ]
  },
  {
   "cell_type": "code",
   "execution_count": 15,
   "id": "d86e3469-9409-427d-b6e3-0f239a3c4191",
   "metadata": {},
   "outputs": [],
   "source": [
    "param_grid= {\n",
    "            \"classifier__n_estimators\": [150, 200, 300],\n",
    "            \"classifier__max_depth\": [3, 5, 7],\n",
    "            \"classifier__learning_rate\": [0.01, 0.1, 0.2]\n",
    "        }"
   ]
  },
  {
   "cell_type": "code",
   "execution_count": 16,
   "id": "6a67e1dd-41e3-4aa5-8cc9-218496e5117b",
   "metadata": {},
   "outputs": [],
   "source": [
    "# RandomizedSearchCV\n",
    "random_search = RandomizedSearchCV(estimator=clf_pipeline,\n",
    "param_distributions=param_grid,\n",
    "n_iter=20,\n",
    "cv=5,\n",
    "n_jobs=-1,\n",
    "verbose=0,\n",
    "random_state=42)"
   ]
  },
  {
   "cell_type": "code",
   "execution_count": 17,
   "id": "12ef3bee-e593-4095-af78-703b7511ee94",
   "metadata": {},
   "outputs": [
    {
     "name": "stdout",
     "output_type": "stream",
     "text": [
      "Best Parameters: {'classifier__n_estimators': 200, 'classifier__max_depth': 5, 'classifier__learning_rate': 0.1}\n",
      "Accuracy: 0.8937550689375506\n",
      "F1 Score: 0.893294693620504\n",
      "Classification Report:\n",
      "               precision    recall  f1-score   support\n",
      "\n",
      "       False       0.94      0.94      0.94      2084\n",
      "        True       0.66      0.65      0.65       382\n",
      "\n",
      "    accuracy                           0.89      2466\n",
      "   macro avg       0.80      0.79      0.80      2466\n",
      "weighted avg       0.89      0.89      0.89      2466\n",
      "\n"
     ]
    }
   ],
   "source": [
    "# Train & Evaluate\n",
    "random_search.fit(X_train, y_train)\n",
    "\n",
    "\n",
    "# Best model\n",
    "print(\"Best Parameters:\", random_search.best_params_)\n",
    "best_model = random_search.best_estimator_\n",
    "\n",
    "\n",
    "# Predictions\n",
    "y_pred = best_model.predict(X_test)\n",
    "\n",
    "\n",
    "print(\"Accuracy:\", accuracy_score(y_test, y_pred))\n",
    "print(\"F1 Score:\", f1_score(y_test, y_pred, average=\"weighted\"))\n",
    "print(\"Classification Report:\\n\", classification_report(y_test, y_pred))"
   ]
  },
  {
   "cell_type": "code",
   "execution_count": 18,
   "id": "3e4e70e7-4a8a-4f29-a623-d5f78a5738b4",
   "metadata": {},
   "outputs": [
    {
     "name": "stdout",
     "output_type": "stream",
     "text": [
      "\n",
      "Feature Importances:\n",
      "                     Feature  Importance\n",
      "8            num__pagevalues    0.314505\n",
      "21            cat__month_Nov    0.103356\n",
      "20            cat__month_May    0.062281\n",
      "23            cat__month_Sep    0.059870\n",
      "19            cat__month_Mar    0.049897\n",
      "25  cat__visitType_Returning    0.041115\n",
      "12               num__region    0.032791\n",
      "10         num__operatingSys    0.030506\n",
      "24        cat__visitType_New    0.030467\n",
      "13          num__trafficType    0.029175\n"
     ]
    }
   ],
   "source": [
    "# 10 Most important features\n",
    "feature_importance_list(best_model)"
   ]
  },
  {
   "cell_type": "code",
   "execution_count": 19,
   "id": "6f518523-244d-4625-a33f-0305b687e610",
   "metadata": {},
   "outputs": [
    {
     "data": {
      "image/png": "[encoded data removed]",
      "text/plain": [
       "<Figure size 640x480 with 1 Axes>"
      ]
     },
     "metadata": {},
     "output_type": "display_data"
    }
   ],
   "source": [
    "# Plot all Feature importances\n",
    "plot_feature_importance(best_model)"
   ]
  },
  {
   "cell_type": "code",
   "execution_count": 20,
   "id": "5374442f-d9da-4adb-9113-fa28baadf688",
   "metadata": {},
   "outputs": [
    {
     "data": {
      "image/png": "[encoded data removed]",
      "text/plain": [
       "<Figure size 600x600 with 1 Axes>"
      ]
     },
     "metadata": {},
     "output_type": "display_data"
    }
   ],
   "source": [
    "# Model ROC curve\n",
    "roc_curve_plot(best_model)"
   ]
  },
  {
   "cell_type": "code",
   "execution_count": 21,
   "id": "1b307621-38e7-4e41-a4da-c489483dc7d6",
   "metadata": {},
   "outputs": [
    {
     "name": "stdout",
     "output_type": "stream",
     "text": [
      "✅ Model saved as best_model.pkl\n",
      "✅ Model reloaded successfully\n",
      "Reloaded model Accuracy: 0.8937550689375506\n"
     ]
    }
   ],
   "source": [
    "# Save the model\n",
    "# save_best_model(best_model)"
   ]
  },
  {
   "cell_type": "code",
   "execution_count": 22,
   "id": "f89d3b8a-a1f9-482f-b508-29988bd8db0d",
   "metadata": {},
   "outputs": [],
   "source": []
  }
 ],
 "metadata": {
  "kernelspec": {
   "display_name": "Python 3 (ipykernel)",
   "language": "python",
   "name": "python3"
  },
  "language_info": {
   "codemirror_mode": {
    "name": "ipython",
    "version": 3
   },
   "file_extension": ".py",
   "mimetype": "text/x-python",
   "name": "python",
   "nbconvert_exporter": "python",
   "pygments_lexer": "ipython3",
   "version": "3.13.5"
  }
 },
 "nbformat": 4,
 "nbformat_minor": 5
}
